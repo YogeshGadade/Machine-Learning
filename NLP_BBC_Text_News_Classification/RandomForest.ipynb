{
 "cells": [
  {
   "cell_type": "code",
   "execution_count": 1,
   "metadata": {},
   "outputs": [],
   "source": [
    "!pip install xgboost --quiet\n",
    "!pip install keras --quiet"
   ]
  },
  {
   "cell_type": "code",
   "execution_count": 2,
   "metadata": {},
   "outputs": [],
   "source": [
    "import os\n",
    "import glob\n",
    "import pandas as pd\n",
    "import numpy as np\n",
    "import operator \n",
    "from sklearn.model_selection import train_test_split\n",
    "from sklearn.neural_network import MLPClassifier\n",
    "from sklearn.preprocessing import StandardScaler \n",
    "from sklearn import metrics\n",
    "from sklearn.metrics import classification_report, accuracy_score, confusion_matrix\n",
    "\n",
    "import gensim\n",
    "import nltk\n",
    "from nltk.corpus import stopwords\n",
    "from nltk.stem.snowball import SnowballStemmer\n",
    "from sklearn.feature_extraction.text import TfidfVectorizer\n",
    "from sklearn.decomposition import NMF\n",
    "from itertools import combinations\n",
    "import matplotlib.pyplot as plt\n",
    "from sklearn.feature_extraction.text import TfidfVectorizer"
   ]
  },
  {
   "cell_type": "code",
   "execution_count": 3,
   "metadata": {},
   "outputs": [],
   "source": [
    "def check_missing_vals(dframe) -> list:\n",
    "    return sorted([(c, dframe[c].dtype, dframe[c].isnull().sum()) \n",
    "                        for c in dframe.columns if dframe[c].isnull().sum() > 0], \n",
    "                      key=lambda x: x[1], reverse=True\n",
    "                )\n",
    "\n",
    "def metric_report(yTest, yPred):\n",
    "    print(f'accuracy: {accuracy_score(yTest, yPred)}')\n",
    "    print('')\n",
    "    print(\"Classification report: \\n\\n\", metrics.classification_report(yTest, yPred))\n",
    "    print('')\n",
    "    confusion_matrix = metrics.confusion_matrix(yTest, yPred)\n",
    "    print(\"Confusion matrix: \\n\\n\", confusion_matrix)\n",
    "\n",
    "    \n",
    "def clean_txt(txtCol: pd.Series) -> pd.Series:\n",
    "    sw = set(stopwords.words('English'))\n",
    "\n",
    "    text = txtCol.apply(gensim.utils.simple_preprocess, min_len=3)\n",
    "    text = text.apply(lambda s: [w for w in s if w not in sw]) \n",
    "    text = text.apply(lambda s: [SnowballStemmer(\"english\", ignore_stopwords=True).stem(w) for w in s])\n",
    "    text = text.apply(lambda s: ['_'.join(x) for x in nltk.bigrams(s)] + s)\n",
    "    \n",
    "    return text"
   ]
  },
  {
   "cell_type": "code",
   "execution_count": 4,
   "metadata": {},
   "outputs": [],
   "source": [
    "def get_data(path, exclude) -> pd.DataFrame:\n",
    "    \"\"\"\n",
    "    get all txt data, put in list of dicts and return a dataframe\n",
    "    \"\"\"\n",
    "    data = []\n",
    "\n",
    "    for file in os.listdir(path):\n",
    "        if file not in (exclude):\n",
    "            full_filename = os.path.join(path, file)\n",
    "            for news in os.listdir(full_filename):\n",
    "                with open(os.path.join(full_filename, news), 'rb') as txt_file:\n",
    "                    data.append({'NewsText': txt_file.read(), 'NewsType': file})\n",
    "\n",
    "    return pd.DataFrame(data)\n",
    "\n",
    "import pickle\n",
    "\n",
    "def picklefy(txtCol: pd.DataFrame) -> pd.DataFrame:\n",
    "    if [f for f in os.listdir('.') if f.endswith('p')]:\n",
    "        return pickle.load(open('tfidf.p','rb'))\n",
    "    return pickle.dump(clean_txt(txtCol['NewsText']), open('tfidf.p', 'wb')) "
   ]
  },
  {
   "cell_type": "code",
   "execution_count": 5,
   "metadata": {},
   "outputs": [
    {
     "data": {
      "text/html": [
       "<div>\n",
       "<style scoped>\n",
       "    .dataframe tbody tr th:only-of-type {\n",
       "        vertical-align: middle;\n",
       "    }\n",
       "\n",
       "    .dataframe tbody tr th {\n",
       "        vertical-align: top;\n",
       "    }\n",
       "\n",
       "    .dataframe thead th {\n",
       "        text-align: right;\n",
       "    }\n",
       "</style>\n",
       "<table border=\"1\" class=\"dataframe\">\n",
       "  <thead>\n",
       "    <tr style=\"text-align: right;\">\n",
       "      <th></th>\n",
       "      <th>NewsText</th>\n",
       "      <th>NewsType</th>\n",
       "    </tr>\n",
       "  </thead>\n",
       "  <tbody>\n",
       "    <tr>\n",
       "      <td>0</td>\n",
       "      <td>b'Ad sales boost Time Warner profit\\r\\n\\r\\nQua...</td>\n",
       "      <td>business</td>\n",
       "    </tr>\n",
       "    <tr>\n",
       "      <td>1</td>\n",
       "      <td>b'Dollar gains on Greenspan speech\\r\\n\\r\\nThe ...</td>\n",
       "      <td>business</td>\n",
       "    </tr>\n",
       "  </tbody>\n",
       "</table>\n",
       "</div>"
      ],
      "text/plain": [
       "                                            NewsText  NewsType\n",
       "0  b'Ad sales boost Time Warner profit\\r\\n\\r\\nQua...  business\n",
       "1  b'Dollar gains on Greenspan speech\\r\\n\\r\\nThe ...  business"
      ]
     },
     "execution_count": 5,
     "metadata": {},
     "output_type": "execute_result"
    }
   ],
   "source": [
    "# preemtively drop duplicates\n",
    "df = get_data('bbc/', 'README.TXT').drop_duplicates(); df.head(2)"
   ]
  },
  {
   "cell_type": "code",
   "execution_count": 7,
   "metadata": {},
   "outputs": [
    {
     "data": {
      "text/html": [
       "<div>\n",
       "<style scoped>\n",
       "    .dataframe tbody tr th:only-of-type {\n",
       "        vertical-align: middle;\n",
       "    }\n",
       "\n",
       "    .dataframe tbody tr th {\n",
       "        vertical-align: top;\n",
       "    }\n",
       "\n",
       "    .dataframe thead th {\n",
       "        text-align: right;\n",
       "    }\n",
       "</style>\n",
       "<table border=\"1\" class=\"dataframe\">\n",
       "  <thead>\n",
       "    <tr style=\"text-align: right;\">\n",
       "      <th></th>\n",
       "      <th>NewsText</th>\n",
       "      <th>NewsType</th>\n",
       "    </tr>\n",
       "  </thead>\n",
       "  <tbody>\n",
       "    <tr>\n",
       "      <td>0</td>\n",
       "      <td>b'Ad sales boost Time Warner profit\\r\\n\\r\\nQua...</td>\n",
       "      <td>business</td>\n",
       "    </tr>\n",
       "    <tr>\n",
       "      <td>1</td>\n",
       "      <td>b'Dollar gains on Greenspan speech\\r\\n\\r\\nThe ...</td>\n",
       "      <td>business</td>\n",
       "    </tr>\n",
       "  </tbody>\n",
       "</table>\n",
       "</div>"
      ],
      "text/plain": [
       "                                            NewsText  NewsType\n",
       "0  b'Ad sales boost Time Warner profit\\r\\n\\r\\nQua...  business\n",
       "1  b'Dollar gains on Greenspan speech\\r\\n\\r\\nThe ...  business"
      ]
     },
     "execution_count": 7,
     "metadata": {},
     "output_type": "execute_result"
    }
   ],
   "source": [
    "df.head(2)"
   ]
  },
  {
   "cell_type": "code",
   "execution_count": 8,
   "metadata": {},
   "outputs": [],
   "source": [
    "# vectorize\n",
    "tfidf = TfidfVectorizer(sublinear_tf=True, \n",
    "                        min_df=5, norm='l2', \n",
    "                        encoding='latin-1', \n",
    "                        #ngram_range=(1, 2),\n",
    "                        stop_words='english')"
   ]
  },
  {
   "cell_type": "code",
   "execution_count": 14,
   "metadata": {},
   "outputs": [],
   "source": [
    "#cleanTxtCol = picklefy(df).apply(lambda x: ' '.join(i for i in x))\n",
    "\n",
    "features = tfidf.fit_transform(df.NewsText).toarray() \n",
    "labels = df.NewsType "
   ]
  },
  {
   "cell_type": "code",
   "execution_count": 16,
   "metadata": {},
   "outputs": [],
   "source": [
    "from sklearn.preprocessing import LabelEncoder\n",
    "\n",
    "LE = LabelEncoder()\n",
    "\n",
    "X = features\n",
    "y = LE.fit_transform(labels)\n",
    "\n",
    "# train/test/split\n",
    "X_train, X_test, y_train, y_test = train_test_split(\n",
    "                                            X,y, test_size=0.2\n",
    "                                    )"
   ]
  },
  {
   "cell_type": "code",
   "execution_count": 17,
   "metadata": {},
   "outputs": [],
   "source": [
    "# RandomForest\n",
    "from sklearn.ensemble import RandomForestClassifier\n",
    "clf=RandomForestClassifier(max_leaf_nodes=7, n_estimators=50, random_state=1)"
   ]
  },
  {
   "cell_type": "code",
   "execution_count": 18,
   "metadata": {},
   "outputs": [
    {
     "name": "stdout",
     "output_type": "stream",
     "text": [
      "accuracy: 0.8873239436619719\n",
      "\n",
      "Classification report: \n",
      "\n",
      "               precision    recall  f1-score   support\n",
      "\n",
      "           0       0.82      0.99      0.90       104\n",
      "           1       0.98      0.72      0.83        78\n",
      "           2       0.99      0.89      0.94        82\n",
      "           3       0.82      0.98      0.89        99\n",
      "           4       0.96      0.78      0.86        63\n",
      "\n",
      "    accuracy                           0.89       426\n",
      "   macro avg       0.91      0.87      0.88       426\n",
      "weighted avg       0.90      0.89      0.89       426\n",
      "\n",
      "\n",
      "Confusion matrix: \n",
      "\n",
      " [[103   0   0   1   0]\n",
      " [  8  56   1  11   2]\n",
      " [  8   0  73   1   0]\n",
      " [  2   0   0  97   0]\n",
      " [  4   1   0   9  49]]\n"
     ]
    }
   ],
   "source": [
    "clf.fit(X_train, y_train)\n",
    "y_pred = clf.predict(X_test)\n",
    "metric_report(y_test, y_pred)"
   ]
  },
  {
   "cell_type": "code",
   "execution_count": 22,
   "metadata": {},
   "outputs": [
    {
     "data": {
      "text/plain": [
       "{'criterion': 'gini'}"
      ]
     },
     "execution_count": 22,
     "metadata": {},
     "output_type": "execute_result"
    }
   ],
   "source": [
    "from sklearn.model_selection import GridSearchCV\n",
    "params = { \n",
    "              'criterion':['gini','entropy'],\n",
    "              #'max_features':['auto', 'sqrt'],\n",
    "              #'max_depth': np.arange(3,15),\n",
    "              #'max_leaf_nodes': np.arange(3, 15),\n",
    "        }\n",
    "rfc_f = RandomForestClassifier()\n",
    "gs_rfc_f = GridSearchCV(clf, params , cv=5)\n",
    "gs_rfc_f.fit(X_train, y_train)\n",
    "gs_rfc_f.best_params_"
   ]
  },
  {
   "cell_type": "code",
   "execution_count": 24,
   "metadata": {},
   "outputs": [],
   "source": [
    "rfc_f = RandomForestClassifier(n_estimators=100,**gs_rfc_f.best_params_)"
   ]
  },
  {
   "cell_type": "code",
   "execution_count": 25,
   "metadata": {},
   "outputs": [
    {
     "name": "stdout",
     "output_type": "stream",
     "text": [
      "accuracy: 0.9507042253521126\n",
      "\n",
      "Classification report: \n",
      "\n",
      "               precision    recall  f1-score   support\n",
      "\n",
      "           0       0.93      0.96      0.95       104\n",
      "           1       0.99      0.91      0.95        78\n",
      "           2       0.92      0.96      0.94        82\n",
      "           3       0.96      0.98      0.97        99\n",
      "           4       0.97      0.92      0.94        63\n",
      "\n",
      "    accuracy                           0.95       426\n",
      "   macro avg       0.95      0.95      0.95       426\n",
      "weighted avg       0.95      0.95      0.95       426\n",
      "\n",
      "\n",
      "Confusion matrix: \n",
      "\n",
      " [[100   0   3   1   0]\n",
      " [  2  71   2   2   1]\n",
      " [  2   0  79   0   1]\n",
      " [  1   0   1  97   0]\n",
      " [  2   1   1   1  58]]\n"
     ]
    }
   ],
   "source": [
    "rfc_f.fit(X_train, y_train)\n",
    "y_pred = rfc_f.predict(X_test)\n",
    "metric_report(y_test, y_pred)"
   ]
  },
  {
   "cell_type": "code",
   "execution_count": null,
   "metadata": {},
   "outputs": [],
   "source": []
  }
 ],
 "metadata": {
  "kernelspec": {
   "display_name": "Python 3",
   "language": "python",
   "name": "python3"
  },
  "language_info": {
   "codemirror_mode": {
    "name": "ipython",
    "version": 3
   },
   "file_extension": ".py",
   "mimetype": "text/x-python",
   "name": "python",
   "nbconvert_exporter": "python",
   "pygments_lexer": "ipython3",
   "version": "3.7.4"
  }
 },
 "nbformat": 4,
 "nbformat_minor": 4
}
